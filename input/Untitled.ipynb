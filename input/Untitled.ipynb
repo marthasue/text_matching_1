{
 "cells": [
  {
   "cell_type": "code",
   "execution_count": 1,
   "metadata": {
    "collapsed": true
   },
   "outputs": [],
   "source": [
    "import pandas as pd\n",
    "from sklearn.utils import shuffle\n",
    "df = pd.read_excel('all.xlsx','Sheet1')\n",
    "df1 = df.loc[:,['host','guest','label']]\n",
    "df1.columns=['sentence1','sentence2','label']\n",
    "df1 = shuffle(df1)\n",
    "df_origin = df1\n",
    "df_train = df_origin.iloc[:6862,:]\n",
    "df_train = df_train.reset_index(drop=True)\n",
    "df_test = df_origin.iloc[6862:,:]\n",
    "df_test = df_test.reset_index(drop=True)\n",
    "df_train.to_csv('train.csv',sep='\\t')\n",
    "df_test.to_csv('test.csv',sep='\\t')"
   ]
  },
  {
   "cell_type": "code",
   "execution_count": 1,
   "metadata": {
    "collapsed": true
   },
   "outputs": [],
   "source": [
    "import pandas as pd\n",
    "from sklearn.utils import shuffle\n",
    "df = pd.read_excel('all.xlsx','Sheet1')\n",
    "df1 = df.loc[:,['host','guest','label']]\n",
    "df1.columns=['sentence1','sentence2','label']\n",
    "df1.to_csv('all_sentence.csv',sep='\\t')"
   ]
  },
  {
   "cell_type": "code",
   "execution_count": 11,
   "metadata": {},
   "outputs": [],
   "source": [
    "import pandas as pd\n",
    "import tensorflow as tf\n",
    "df_1 = pd.read_csv('test.csv',sep='\\t')\n",
    "df_1.to_excel('test.xlsx','Sheet1')\n",
    "y = df_1.loc[:,'label'].values\n",
    "y = tf.convert_to_tensor(y, tf.int32, name='y')"
   ]
  },
  {
   "cell_type": "code",
   "execution_count": 12,
   "metadata": {},
   "outputs": [],
   "source": [
    "df2 = pd.read_excel('predict_data.xlsx','Sheet1')\n",
    "pos_result = df2.loc[:,'label'].values\n",
    "pos_result = tf.convert_to_tensor(pos_result, tf.int32, name='pos_result')"
   ]
  },
  {
   "cell_type": "code",
   "execution_count": null,
   "metadata": {
    "collapsed": true
   },
   "outputs": [],
   "source": []
  }
 ],
 "metadata": {
  "kernelspec": {
   "display_name": "Python 3",
   "language": "python",
   "name": "python3"
  },
  "language_info": {
   "codemirror_mode": {
    "name": "ipython",
    "version": 3
   },
   "file_extension": ".py",
   "mimetype": "text/x-python",
   "name": "python",
   "nbconvert_exporter": "python",
   "pygments_lexer": "ipython3",
   "version": "3.8.3"
  }
 },
 "nbformat": 4,
 "nbformat_minor": 2
}
